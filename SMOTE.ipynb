{
 "cells": [
  {
   "attachments": {},
   "cell_type": "markdown",
   "metadata": {},
   "source": [
    "# SMOTE: \n",
    "# Synthetic Minority Over-sampling Technique\n",
    "\n",
    "## Алгоритм перебалансировки наблюдений по классам\n",
    "\n",
    "Алгоритм предназначен для перебалансировки наблюдений с целью обеспечения баланса классов по целевой переменной (в задаче классификации). На выходе получается одинаковое число наблюдений по каждому классу. Количество наблюдений ничем не ограничивается, т.е. можно увеличивать число наблюдений и по максимальному классу. Таким образом перебалансировка увеличивает размер выборки.\n",
    "Для уменьшения объема выборки используют метод Random Sampling."
   ]
  },
  {
   "attachments": {
    "smote.png": {
     "image/png": "[encoded data removed]"
    }
   },
   "cell_type": "markdown",
   "metadata": {},
   "source": [
    "## Описание алгоритма\n",
    "\n",
    "Случайно выбирается наблюдение по классу (см. рисунок, стрелка), объём наблюдений которго нужно увеличить. Для него определяются k ближайших наблюдений того же класса. Случайно выбирается одно из них. Новое наблюдение генерируется умножением случайного значения от 0 до 1 на расстояние между каждым признаком этой пары наблюдений (о - новое наблюдение). В дальнейшем сгенерированное наблюдение не используется при поиске k ближайших при создании новых наблюдений.\n",
    "\n",
    "Таким образом можно создавать наблюдения для малых классов балансируя выборку, а также добавлять наблюдения к наибольшему классу, увеличивая общее число наблюдений.\n",
    "\n",
    "![smote.png](attachment:smote.png)\n",
    "\n",
    "На новых данных метрики возрастут, но не нужно обольщаться потому как это синтетические наблюдения, не имеющие отношение к реальности. Зачем тогда это делать? - Я не знаю. Просто интересный алгоритм, легок в реализации. Попробовал, погравилось."
   ]
  },
  {
   "cell_type": "code",
   "execution_count": 30,
   "metadata": {},
   "outputs": [],
   "source": [
    "from sklearn import datasets\n",
    "from sklearn.model_selection import train_test_split\n",
    "from matplotlib import pyplot as plt\n",
    "\n",
    "import numpy as np\n",
    "import random\n",
    "import pandas as pd"
   ]
  },
  {
   "cell_type": "code",
   "execution_count": 34,
   "metadata": {},
   "outputs": [],
   "source": [
    "X, y = datasets.make_classification(n_classes=3, n_informative=5, n_samples=500)"
   ]
  },
  {
   "cell_type": "code",
   "execution_count": 35,
   "metadata": {},
   "outputs": [],
   "source": [
    "class KNN:\n",
    "    def __init__(self, k=3):\n",
    "        self.k = k\n",
    "        \n",
    "    def fit(self, X_train, y_train):\n",
    "        self.X_train = X_train\n",
    "        self.y_train = y_train\n",
    "        \n",
    "    def predict(self, X_test):\n",
    "        labels = [self.find_labels(x_test) for x_test in X_test]\n",
    "        return np.array(labels)\n",
    "    \n",
    "    def find_labels(self, x_test):\n",
    "        distances = [self.distance(x_test, x_train) for x_train in self.X_train]   \n",
    "        k_nearest = np.argsort(distances)[:self.k]\n",
    "        y_labels = [self.y_train[i] for i in k_nearest]\n",
    "            \n",
    "        return self.most_common(y_labels)\n",
    "        \n",
    "    def most_common(self, y_labels):\n",
    "        a = tuple(set(y_labels))\n",
    "        count = [y_labels.count(i) for i in a]\n",
    "        return a[np.argsort(count)[-1]]\n",
    "    \n",
    "    def score(self, y_predicted, y_train):\n",
    "        return (y_predicted == y_train).sum() / len(y_train)\n",
    "\n",
    "    def distance(self, x_test, x_train):\n",
    "        return np.sqrt(np.abs(np.sum((x_test - x_train)**2)))\n",
    "    \n",
    "    def cv(self, X, y, cv=5):\n",
    "        y = np.reshape(y, (len(y), 1))\n",
    "        data = np.concatenate((X, y), axis=1)\n",
    "        np.random.shuffle(data)\n",
    "        \n",
    "        data = pd.DataFrame(data)\n",
    "        score = []\n",
    "        \n",
    "        for i in range(cv):\n",
    "            lenght = int(len(y) / cv)\n",
    "            \n",
    "            end = i * lenght + lenght\n",
    "            \n",
    "            if i == cv - 1: \n",
    "                end = -1\n",
    "            \n",
    "            X_test = data.iloc[i * lenght: end, :-1]\n",
    "            X_train = data.drop(index=X_test.index).iloc[:, :-1]\n",
    "            \n",
    "            y_test = data.iloc[i * lenght: end, -1]\n",
    "            y_train = data.drop(index=X_test.index).iloc[:, -1]\n",
    "            \n",
    "            clf = KNN(k=self.k)\n",
    "            clf.fit(np.array(X_train), np.array(y_train))\n",
    "            s_ = clf.score(clf.predict(np.array(X_test)), np.array(y_test))\n",
    "            score.append(s_)\n",
    "        \n",
    "        return np.array(score).mean()"
   ]
  },
  {
   "cell_type": "code",
   "execution_count": 39,
   "metadata": {
    "code_folding": [
     0
    ]
   },
   "outputs": [],
   "source": [
    "class SMOTE:\n",
    "    def __init__(self, k=4, observations=0):\n",
    "        self.k = k\n",
    "        self.ob = observations\n",
    "\n",
    "    def fit(self, X, y):\n",
    "        self.X_res = X\n",
    "        self.y_res = y\n",
    "\n",
    "    def distance(self, x1, x2):\n",
    "        return np.sqrt(np.sum((x1 - x2)**2))\n",
    "\n",
    "    def transform(self):\n",
    "        self.classes = np.unique(self.y_res)\n",
    "        # определение числа наблюдений по каждому классу\n",
    "        self.counts = [np.where(self.y_res == i)[0].shape[0] for i in self.classes]\n",
    "\n",
    "        if self.ob == 0:\n",
    "            self.ob = max(self.counts)\n",
    "\n",
    "        for ind, c in enumerate(self.classes):\n",
    "            amount = self.counts[ind]\n",
    "            \n",
    "            if amount == self.ob:\n",
    "                continue\n",
    "\n",
    "            X_c = self.X_res[self.y_res == c]\n",
    "\n",
    "            sample_len = self.ob - amount\n",
    "            sample_ind = [random.randrange(0, amount - 1) for i in range(sample_len)]\n",
    "\n",
    "            # продолжаем генерировать наблюдения до заданного количества\n",
    "            while amount < self.ob:\n",
    "\n",
    "                for ind in sample_ind:\n",
    "                    x_parent = X_c[ind] # здесь будут исходные наблюдения\n",
    "                    x_new = [] # здесь будут новые наблюдения\n",
    "\n",
    "                    # находим k ближайших\n",
    "                    distances = [self.distance(x_parent, x) for x in X_c]\n",
    "                    k_nearest = np.argsort(distances)[1:self.k + 1]\n",
    "                    \n",
    "                    # выбираем случайное из них\n",
    "                    x_random = X_c[random.choice(k_nearest)]\n",
    "                    # умножаем расстояние между ними на случайное значение\n",
    "                    delta = np.abs(x_parent - x_random) * random.random()\n",
    "\n",
    "                    # полученное растояние конвертируем в признак\n",
    "                    for x_p, x_r, dlt in zip(x_parent, x_random, delta):\n",
    "                        x_new.append(min(x_p, x_r) + dlt)\n",
    "                    \n",
    "                    x_new = np.array([x_new])\n",
    "                    \n",
    "                    # добавляем сгенерированное наблюдение\n",
    "                    self.X_res = np.concatenate((self.X_res, x_new), axis=0)\n",
    "                    self.y_res = np.append(self.y_res, c)\n",
    "\n",
    "                    amount += 1\n",
    "\n",
    "        return self.X_res, self.y_res"
   ]
  },
  {
   "cell_type": "code",
   "execution_count": 40,
   "metadata": {},
   "outputs": [
    {
     "name": "stdout",
     "output_type": "stream",
     "text": [
      "SMOTE, добавлено наблюдений по каждому классу до: 1000\n",
      "Wall time: 5.64 s\n"
     ]
    },
    {
     "data": {
      "text/plain": [
       "array([1000, 1000, 1000], dtype=int64)"
      ]
     },
     "execution_count": 40,
     "metadata": {},
     "output_type": "execute_result"
    }
   ],
   "source": [
    "%%time\n",
    "# добавить наблюдений до\n",
    "observations = 1000\n",
    "\n",
    "# по ближайшим k соседям\n",
    "res = SMOTE(k=3, observations=observations)\n",
    "res.fit(X, y)\n",
    "\n",
    "X_res, y_res = res.transform()\n",
    "\n",
    "print(\"SMOTE, добавлено наблюдений по каждому классу до:\", observations)\n",
    "np.bincount(y_res)"
   ]
  },
  {
   "cell_type": "code",
   "execution_count": 42,
   "metadata": {},
   "outputs": [
    {
     "name": "stdout",
     "output_type": "stream",
     "text": [
      "original cv score: 0.681\n"
     ]
    }
   ],
   "source": [
    "clf = KNN(k=5)\n",
    "\n",
    "print(\"original cv score:\", str(clf.cv(X, y))[:5])"
   ]
  },
  {
   "cell_type": "code",
   "execution_count": 43,
   "metadata": {},
   "outputs": [
    {
     "name": "stdout",
     "output_type": "stream",
     "text": [
      "new data cv score: 0.996\n"
     ]
    }
   ],
   "source": [
    "print(\"new data cv score:\", str(clf.cv(X_res, y_res))[:5])"
   ]
  },
  {
   "cell_type": "code",
   "execution_count": null,
   "metadata": {},
   "outputs": [],
   "source": []
  },
  {
   "cell_type": "code",
   "execution_count": null,
   "metadata": {},
   "outputs": [],
   "source": []
  },
  {
   "cell_type": "code",
   "execution_count": null,
   "metadata": {},
   "outputs": [],
   "source": []
  },
  {
   "cell_type": "code",
   "execution_count": null,
   "metadata": {},
   "outputs": [],
   "source": []
  }
 ],
 "metadata": {
  "kernelspec": {
   "display_name": "Python 3",
   "language": "python",
   "name": "python3"
  },
  "language_info": {
   "codemirror_mode": {
    "name": "ipython",
    "version": 3
   },
   "file_extension": ".py",
   "mimetype": "text/x-python",
   "name": "python",
   "nbconvert_exporter": "python",
   "pygments_lexer": "ipython3",
   "version": "3.8.3"
  },
  "toc": {
   "base_numbering": 1,
   "nav_menu": {},
   "number_sections": true,
   "sideBar": true,
   "skip_h1_title": false,
   "title_cell": "Table of Contents",
   "title_sidebar": "Contents",
   "toc_cell": false,
   "toc_position": {},
   "toc_section_display": true,
   "toc_window_display": false
  },
  "varInspector": {
   "cols": {
    "lenName": 16,
    "lenType": 16,
    "lenVar": 40
   },
   "kernels_config": {
    "python": {
     "delete_cmd_postfix": "",
     "delete_cmd_prefix": "del ",
     "library": "var_list.py",
     "varRefreshCmd": "print(var_dic_list())"
    },
    "r": {
     "delete_cmd_postfix": ") ",
     "delete_cmd_prefix": "rm(",
     "library": "var_list.r",
     "varRefreshCmd": "cat(var_dic_list()) "
    }
   },
   "types_to_exclude": [
    "module",
    "function",
    "builtin_function_or_method",
    "instance",
    "_Feature"
   ],
   "window_display": false
  }
 },
 "nbformat": 4,
 "nbformat_minor": 5
}
