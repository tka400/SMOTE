{
 "cells": [
  {
   "attachments": {
    "smote.png": {
     "image/png": "[encoded data removed]"
    }
   },
   "cell_type": "markdown",
   "id": "92bef44b",
   "metadata": {},
   "source": [
    "# Генерация новых наблюдений. Класс SMOTE: Synthetic Minority Over-sampling Technique\n",
    "\n",
    "Случайно выбирается наблюдение. Для него определяются k ближайших. Случайно выбирается одно из них. Новое наблюдение генерируется умножением случайного значения от 0 до 1 на расстояние между каждым признаком этой пары наблюдений. В дальнейшем сгенерированное наблюдение не используется при поиске k ближайших при создании новых наблюдений.\n",
    "\n",
    "Таким образом можно создавать наблюдения для малых классов балансируя выборку, а также добавлять наблюдения к наибольшему классу, увеличивая общее число наблюдений.\n",
    "\n",
    "![smote.png](attachment:smote.png)\n"
   ]
  },
  {
   "cell_type": "code",
   "execution_count": 9,
   "id": "e2ce4268",
   "metadata": {},
   "outputs": [],
   "source": [
    "from sklearn import datasets\n",
    "from sklearn.model_selection import train_test_split\n",
    "\n",
    "import numpy as np\n",
    "from matplotlib import pyplot as plt"
   ]
  },
  {
   "cell_type": "code",
   "execution_count": 13,
   "id": "7a282ee7",
   "metadata": {},
   "outputs": [],
   "source": [
    "X, y = datasets.make_classification(n_classes=3, n_informative=5)"
   ]
  },
  {
   "cell_type": "code",
   "execution_count": 14,
   "id": "8b82cafc",
   "metadata": {
    "code_folding": [
     0
    ]
   },
   "outputs": [],
   "source": [
    "class SMOTE:\n",
    "    def __init__(self, k=4, observations=0):\n",
    "        self.k = k\n",
    "        self.ob = observations\n",
    "\n",
    "    def fit(self, X, y):\n",
    "        self.X_res = X\n",
    "        self.y_res = y\n",
    "\n",
    "    def distance(self, x1, x2):\n",
    "        return np.sqrt(np.sum((x1 - x2)**2))\n",
    "\n",
    "    def transform(self):\n",
    "        self.classes = np.unique(self.y_res)\n",
    "        # определение числа наблюдений по каждому классу\n",
    "        self.counts = [np.where(self.y_res == i)[0].shape[0] for i in self.classes]\n",
    "\n",
    "        if self.ob == 0:\n",
    "            self.ob = max(self.counts)\n",
    "\n",
    "        for ind, c in enumerate(self.classes):\n",
    "            amount = self.counts[ind]\n",
    "            \n",
    "            if amount == self.ob:\n",
    "                continue\n",
    "\n",
    "            X_c = self.X_res[self.y_res == c]\n",
    "\n",
    "            sample_len = self.ob - amount\n",
    "            sample_ind = [random.randrange(0, amount - 1) for i in range(sample_len)]\n",
    "\n",
    "            # продолжаем генерировать наблюдения до заданного количества\n",
    "            while amount < self.ob:\n",
    "\n",
    "                for ind in sample_ind:\n",
    "                    x_parent = X_c[ind] # здесь будут исходные наблюдения\n",
    "                    x_new = [] # здесь будут новые наблюдения\n",
    "\n",
    "                    # находим k ближайших\n",
    "                    distances = [self.distance(x_parent, x) for x in X_c]\n",
    "                    k_nearest = np.argsort(distances)[1:self.k + 1]\n",
    "                    \n",
    "                    # выбираем случайное из них\n",
    "                    x_random = X_c[random.choice(k_nearest)]\n",
    "                    # умножаем расстояние между ними на случайное значение\n",
    "                    delta = np.abs(x_parent - x_random) * random.random()\n",
    "\n",
    "                    # полученное растояние конвертируем в признак\n",
    "                    for x_p, x_r, dlt in zip(x_parent, x_random, delta):\n",
    "                        x_new.append(min(x_p, x_r) + dlt)\n",
    "                    \n",
    "                    x_new = np.array([x_new])\n",
    "                    \n",
    "                    # добавляем сгенерированное наблюдение\n",
    "                    self.X_res = np.concatenate((self.X_res, x_new), axis=0)\n",
    "                    self.y_res = np.append(self.y_res, c)\n",
    "\n",
    "                    amount += 1\n",
    "\n",
    "        return self.X_res, self.y_res"
   ]
  },
  {
   "cell_type": "code",
   "execution_count": 15,
   "id": "ae3547b2",
   "metadata": {},
   "outputs": [
    {
     "ename": "NameError",
     "evalue": "name 'pd' is not defined",
     "output_type": "error",
     "traceback": [
      "\u001b[1;31m---------------------------------------------------------------------------\u001b[0m",
      "\u001b[1;31mNameError\u001b[0m                                 Traceback (most recent call last)",
      "\u001b[1;32m~\\AppData\\Local\\Temp/ipykernel_14248/1723963010.py\u001b[0m in \u001b[0;36m<module>\u001b[1;34m\u001b[0m\n\u001b[0;32m     16\u001b[0m \u001b[1;33m\u001b[0m\u001b[0m\n\u001b[0;32m     17\u001b[0m \u001b[1;31m# считываем разметку\u001b[0m\u001b[1;33m\u001b[0m\u001b[1;33m\u001b[0m\u001b[1;33m\u001b[0m\u001b[0m\n\u001b[1;32m---> 18\u001b[1;33m \u001b[0mX\u001b[0m \u001b[1;33m=\u001b[0m \u001b[0mnp\u001b[0m\u001b[1;33m.\u001b[0m\u001b[0marray\u001b[0m\u001b[1;33m(\u001b[0m\u001b[0mpd\u001b[0m\u001b[1;33m.\u001b[0m\u001b[0mread_pickle\u001b[0m\u001b[1;33m(\u001b[0m\u001b[1;34m\"objects.pcl\"\u001b[0m\u001b[1;33m)\u001b[0m\u001b[1;33m)\u001b[0m\u001b[1;33m[\u001b[0m\u001b[1;33m:\u001b[0m\u001b[1;33m-\u001b[0m\u001b[1;36m1\u001b[0m\u001b[1;33m]\u001b[0m\u001b[1;33m\u001b[0m\u001b[1;33m\u001b[0m\u001b[0m\n\u001b[0m\u001b[0;32m     19\u001b[0m \u001b[0my\u001b[0m \u001b[1;33m=\u001b[0m \u001b[0mnp\u001b[0m\u001b[1;33m.\u001b[0m\u001b[0marray\u001b[0m\u001b[1;33m(\u001b[0m\u001b[0mpd\u001b[0m\u001b[1;33m.\u001b[0m\u001b[0mread_pickle\u001b[0m\u001b[1;33m(\u001b[0m\u001b[1;34m\"targets.pcl\"\u001b[0m\u001b[1;33m)\u001b[0m\u001b[1;33m[\u001b[0m\u001b[1;36m0\u001b[0m\u001b[1;33m]\u001b[0m\u001b[1;33m)\u001b[0m\u001b[1;33m[\u001b[0m\u001b[1;36m1\u001b[0m\u001b[1;33m:\u001b[0m\u001b[1;33m]\u001b[0m\u001b[1;33m\u001b[0m\u001b[1;33m\u001b[0m\u001b[0m\n\u001b[0;32m     20\u001b[0m \u001b[1;33m\u001b[0m\u001b[0m\n",
      "\u001b[1;31mNameError\u001b[0m: name 'pd' is not defined"
     ]
    }
   ],
   "source": [
    "def plot_classes(y):\n",
    "    data = {\n",
    "        'налево': len(y[y == 1]),\n",
    "        'прямо': len(y[y == 2]),\n",
    "        'направо': len(y[y == 3])\n",
    "    }\n",
    "\n",
    "    fig, ax = plt.subplots()\n",
    "    names = list(data.keys())\n",
    "    values = list(data.values())\n",
    "\n",
    "    ax.bar(names, values)\n",
    "    plt.show()\n",
    "\n",
    "method = \"(начальный дисбаланс)\"\n",
    "    \n",
    "# считываем разметку\n",
    "X = np.array(pd.read_pickle(\"objects.pcl\"))[:-1]\n",
    "y = np.array(pd.read_pickle(\"targets.pcl\")[0])[1:]\n",
    "\n",
    "# удаляем повторяющиеся наблюдения\n",
    "_, indexes = np.unique(X, axis=0, return_index=True)\n",
    "X = X[indexes, :]\n",
    "y = y[indexes]\n",
    "\n",
    "# количество наблюдений и признаков\n",
    "print(\"наблюдений:\", X.shape[0], \", признаков:\", X.shape[1])\n",
    "\n",
    "X_res, y_res = X, y\n",
    "plot_classes(y_res)"
   ]
  },
  {
   "cell_type": "code",
   "execution_count": 3,
   "id": "ac79210c",
   "metadata": {},
   "outputs": [
    {
     "ename": "NameError",
     "evalue": "name 'X' is not defined",
     "output_type": "error",
     "traceback": [
      "\u001b[1;31m---------------------------------------------------------------------------\u001b[0m",
      "\u001b[1;31mNameError\u001b[0m                                 Traceback (most recent call last)",
      "\u001b[1;32m<timed exec>\u001b[0m in \u001b[0;36m<module>\u001b[1;34m\u001b[0m\n",
      "\u001b[1;31mNameError\u001b[0m: name 'X' is not defined"
     ]
    }
   ],
   "source": [
    "%%time\n",
    "# добавить наблюдений до\n",
    "observations = 1000\n",
    "method = \"SMOTE\"\n",
    "\n",
    "# по ближайшим k соседям\n",
    "res = SMOTE(k=3, observations=observations)\n",
    "res.fit(X, y)\n",
    "\n",
    "X_res, y_res = res.transform()\n",
    "\n",
    "print(\"SMOTE, добавлено наблюдений по каждому классу до:\", observations)\n",
    "plot_classes(y_res)\n",
    "print(\"*** Результат скользящего контроля ***\")\n",
    "print(\"\\nДоли верных ответов:\", cv)\n",
    "print(\"Среднее: %0.2f\" % cv.mean())"
   ]
  },
  {
   "cell_type": "code",
   "execution_count": null,
   "id": "426f6d00",
   "metadata": {},
   "outputs": [],
   "source": []
  }
 ],
 "metadata": {
  "kernelspec": {
   "display_name": "Python 3 (ipykernel)",
   "language": "python",
   "name": "python3"
  },
  "language_info": {
   "codemirror_mode": {
    "name": "ipython",
    "version": 3
   },
   "file_extension": ".py",
   "mimetype": "text/x-python",
   "name": "python",
   "nbconvert_exporter": "python",
   "pygments_lexer": "ipython3",
   "version": "3.8.3"
  },
  "toc": {
   "base_numbering": 1,
   "nav_menu": {},
   "number_sections": true,
   "sideBar": true,
   "skip_h1_title": false,
   "title_cell": "Table of Contents",
   "title_sidebar": "Contents",
   "toc_cell": false,
   "toc_position": {},
   "toc_section_display": true,
   "toc_window_display": false
  },
  "varInspector": {
   "cols": {
    "lenName": 16,
    "lenType": 16,
    "lenVar": 40
   },
   "kernels_config": {
    "python": {
     "delete_cmd_postfix": "",
     "delete_cmd_prefix": "del ",
     "library": "var_list.py",
     "varRefreshCmd": "print(var_dic_list())"
    },
    "r": {
     "delete_cmd_postfix": ") ",
     "delete_cmd_prefix": "rm(",
     "library": "var_list.r",
     "varRefreshCmd": "cat(var_dic_list()) "
    }
   },
   "types_to_exclude": [
    "module",
    "function",
    "builtin_function_or_method",
    "instance",
    "_Feature"
   ],
   "window_display": false
  }
 },
 "nbformat": 4,
 "nbformat_minor": 5
}
